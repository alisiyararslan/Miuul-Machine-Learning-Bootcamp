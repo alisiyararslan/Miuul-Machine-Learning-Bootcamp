{
 "cells": [
  {
   "cell_type": "markdown",
   "id": "816352a4-aba2-460d-b205-87f7d86d86d3",
   "metadata": {},
   "source": [
    "# Customer Segmentation with K-Means"
   ]
  },
  {
   "cell_type": "code",
   "execution_count": 30,
   "id": "55ddf52a-1395-4e24-86a2-d798e81d2a5a",
   "metadata": {
    "tags": []
   },
   "outputs": [],
   "source": [
    "import pandas as pd\n",
    "from scipy import stats\n",
    "import datetime as dt\n",
    "import matplotlib.pyplot as plt\n",
    "from sklearn.preprocessing import MinMaxScaler\n",
    "from sklearn.cluster import KMeans\n",
    "from scipy.cluster.hierarchy import dendrogram\n",
    "from scipy.cluster.hierarchy import linkage\n",
    "from yellowbrick.cluster import KElbowVisualizer\n",
    "from sklearn.cluster import AgglomerativeClustering\n",
    "from sklearn.preprocessing import StandardScaler\n",
    "\n",
    "import seaborn as sns\n",
    "import numpy as np\n",
    "import warnings"
   ]
  },
  {
   "cell_type": "code",
   "execution_count": 31,
   "id": "b2901d29-8e6d-4161-b67d-844e08cbcecb",
   "metadata": {
    "tags": []
   },
   "outputs": [],
   "source": [
    "pd.set_option ('display.max_columns', 50)\n",
    "pd.set_option ('display.max_rows', 50)\n",
    "pd.set_option ('display.float_format', lambda x: '%.2f' % x)\n",
    "pd.set_option ('display.width', 1000)\n",
    "warnings.filterwarnings (\"ignore\")"
   ]
  },
  {
   "cell_type": "code",
   "execution_count": 32,
   "id": "d51166d9-f2c1-4495-9e53-f6bc030f6408",
   "metadata": {
    "tags": []
   },
   "outputs": [],
   "source": [
    "df_ = pd.read_excel (\"online_retail_II-230817-120704.xlsx\", sheet_name=\"Year 2009-2010\")\n",
    "\n",
    "df = df_.copy ()"
   ]
  },
  {
   "cell_type": "code",
   "execution_count": 33,
   "id": "c27c333f-56ac-4c81-b940-f43d512296e8",
   "metadata": {
    "tags": []
   },
   "outputs": [],
   "source": [
    "def check_df(dataframe, head = 5):\n",
    "    print(\"##################### Shape #####################\")\n",
    "    print(dataframe.shape)\n",
    "    print(\"##################### Types #####################\")\n",
    "    print(dataframe.dtypes)\n",
    "    print(\"##################### Head #####################\")\n",
    "    print(dataframe.head(head))\n",
    "    print(\"##################### Tail #####################\")\n",
    "    print(dataframe.head(head))\n",
    "    print(\"##################### NA #####################\")\n",
    "    print(dataframe.isnull().sum())\n",
    "    print(\"##################### Quantiles #####################\")\n",
    "    print(dataframe.quantile([0, 0.05, 0.95, 0.99, 1]).T)"
   ]
  },
  {
   "cell_type": "code",
   "execution_count": 34,
   "id": "6f9b56e9-b64e-4572-9475-309e3ae14992",
   "metadata": {
    "tags": []
   },
   "outputs": [
    {
     "name": "stdout",
     "output_type": "stream",
     "text": [
      "##################### Shape #####################\n",
      "(525461, 8)\n",
      "##################### Types #####################\n",
      "Invoice                object\n",
      "StockCode              object\n",
      "Description            object\n",
      "Quantity                int64\n",
      "InvoiceDate    datetime64[ns]\n",
      "Price                 float64\n",
      "Customer ID           float64\n",
      "Country                object\n",
      "dtype: object\n",
      "##################### Head #####################\n",
      "  Invoice StockCode                          Description  Quantity         InvoiceDate  Price  Customer ID         Country\n",
      "0  489434     85048  15CM CHRISTMAS GLASS BALL 20 LIGHTS        12 2009-12-01 07:45:00   6.95     13085.00  United Kingdom\n",
      "1  489434    79323P                   PINK CHERRY LIGHTS        12 2009-12-01 07:45:00   6.75     13085.00  United Kingdom\n",
      "2  489434    79323W                  WHITE CHERRY LIGHTS        12 2009-12-01 07:45:00   6.75     13085.00  United Kingdom\n",
      "3  489434     22041         RECORD FRAME 7\" SINGLE SIZE         48 2009-12-01 07:45:00   2.10     13085.00  United Kingdom\n",
      "4  489434     21232       STRAWBERRY CERAMIC TRINKET BOX        24 2009-12-01 07:45:00   1.25     13085.00  United Kingdom\n",
      "##################### Tail #####################\n",
      "  Invoice StockCode                          Description  Quantity         InvoiceDate  Price  Customer ID         Country\n",
      "0  489434     85048  15CM CHRISTMAS GLASS BALL 20 LIGHTS        12 2009-12-01 07:45:00   6.95     13085.00  United Kingdom\n",
      "1  489434    79323P                   PINK CHERRY LIGHTS        12 2009-12-01 07:45:00   6.75     13085.00  United Kingdom\n",
      "2  489434    79323W                  WHITE CHERRY LIGHTS        12 2009-12-01 07:45:00   6.75     13085.00  United Kingdom\n",
      "3  489434     22041         RECORD FRAME 7\" SINGLE SIZE         48 2009-12-01 07:45:00   2.10     13085.00  United Kingdom\n",
      "4  489434     21232       STRAWBERRY CERAMIC TRINKET BOX        24 2009-12-01 07:45:00   1.25     13085.00  United Kingdom\n",
      "##################### NA #####################\n",
      "Invoice             0\n",
      "StockCode           0\n",
      "Description      2928\n",
      "Quantity            0\n",
      "InvoiceDate         0\n",
      "Price               0\n",
      "Customer ID    107927\n",
      "Country             0\n",
      "dtype: int64\n",
      "##################### Quantiles #####################\n",
      "                 0.00     0.05     0.95     0.99     1.00\n",
      "Quantity     -9600.00     1.00    30.00   120.00 19152.00\n",
      "Price       -53594.36     0.42    10.17    19.95 25111.09\n",
      "Customer ID  12346.00 12725.00 17913.00 18196.00 18287.00\n"
     ]
    }
   ],
   "source": [
    "check_df(df)"
   ]
  },
  {
   "cell_type": "code",
   "execution_count": 35,
   "id": "a54b1edb-5004-45b0-a5e9-00e5a57e0cee",
   "metadata": {
    "tags": []
   },
   "outputs": [],
   "source": [
    "def check_outlier(dataframe, col_name, q1=0.05, q3=0.95):\n",
    "    low_limit, up_limit = outlier_thresholds (dataframe, col_name, q1, q3)\n",
    "    if dataframe[(dataframe[col_name] > up_limit) | (dataframe[col_name] < low_limit)].any (axis=None):\n",
    "        return True\n",
    "    else:\n",
    "        return False"
   ]
  },
  {
   "cell_type": "code",
   "execution_count": 36,
   "id": "05badfab-712f-42c8-9f8e-a1ff3a1dd534",
   "metadata": {
    "tags": []
   },
   "outputs": [],
   "source": [
    "def outlier_thresholds(dataframe, col_name, q1=0.05, q3=0.95):\n",
    "    quartile1 = dataframe[col_name].quantile (q1)\n",
    "    quartile3 = dataframe[col_name].quantile (q3)\n",
    "    interquantile_range = quartile3 - quartile1\n",
    "    up_limit = quartile3 + 1.5 * interquantile_range\n",
    "    low_limit = quartile1 - 1.5 * interquantile_range\n",
    "    return low_limit, up_limit"
   ]
  },
  {
   "cell_type": "code",
   "execution_count": 37,
   "id": "18972a05-755a-45c3-a1f3-caadeafa328e",
   "metadata": {
    "tags": []
   },
   "outputs": [],
   "source": [
    "def replace_with_thresholds(dataframe, variable):\n",
    "    low_limit, up_limit = outlier_thresholds (dataframe, variable)\n",
    "    dataframe.loc[(dataframe[variable] < low_limit), variable] = low_limit\n",
    "    dataframe.loc[(dataframe[variable] > up_limit), variable] = up_limit"
   ]
  },
  {
   "cell_type": "code",
   "execution_count": 38,
   "id": "2ce66c11-3fd0-4149-8bcf-13a41859a377",
   "metadata": {
    "tags": []
   },
   "outputs": [],
   "source": [
    "df = df[~df[\"Invoice\"].str.contains(\"C\", na = False)]"
   ]
  },
  {
   "cell_type": "code",
   "execution_count": 39,
   "id": "0db7e4f9-a9e9-400e-b7a1-10ccbca0d78e",
   "metadata": {
    "tags": []
   },
   "outputs": [],
   "source": [
    "df = df[(df[\"Quantity\"] > 0)]"
   ]
  },
  {
   "cell_type": "code",
   "execution_count": 40,
   "id": "c7a7c2ae-fd7d-4cf1-925f-179e7ee202d9",
   "metadata": {
    "tags": []
   },
   "outputs": [],
   "source": [
    "df.dropna(inplace= True)"
   ]
  },
  {
   "cell_type": "code",
   "execution_count": 41,
   "id": "428ba4f3-790c-42ae-b9cd-90f5c8d7f94b",
   "metadata": {
    "tags": []
   },
   "outputs": [
    {
     "data": {
      "text/html": [
       "<div>\n",
       "<style scoped>\n",
       "    .dataframe tbody tr th:only-of-type {\n",
       "        vertical-align: middle;\n",
       "    }\n",
       "\n",
       "    .dataframe tbody tr th {\n",
       "        vertical-align: top;\n",
       "    }\n",
       "\n",
       "    .dataframe thead th {\n",
       "        text-align: right;\n",
       "    }\n",
       "</style>\n",
       "<table border=\"1\" class=\"dataframe\">\n",
       "  <thead>\n",
       "    <tr style=\"text-align: right;\">\n",
       "      <th></th>\n",
       "      <th>count</th>\n",
       "      <th>mean</th>\n",
       "      <th>std</th>\n",
       "      <th>min</th>\n",
       "      <th>1%</th>\n",
       "      <th>10%</th>\n",
       "      <th>25%</th>\n",
       "      <th>50%</th>\n",
       "      <th>75%</th>\n",
       "      <th>90%</th>\n",
       "      <th>99%</th>\n",
       "      <th>max</th>\n",
       "    </tr>\n",
       "  </thead>\n",
       "  <tbody>\n",
       "    <tr>\n",
       "      <th>Quantity</th>\n",
       "      <td>407695.00</td>\n",
       "      <td>13.59</td>\n",
       "      <td>96.84</td>\n",
       "      <td>1.00</td>\n",
       "      <td>1.00</td>\n",
       "      <td>1.00</td>\n",
       "      <td>2.00</td>\n",
       "      <td>5.00</td>\n",
       "      <td>12.00</td>\n",
       "      <td>24.00</td>\n",
       "      <td>144.00</td>\n",
       "      <td>19152.00</td>\n",
       "    </tr>\n",
       "    <tr>\n",
       "      <th>Price</th>\n",
       "      <td>407695.00</td>\n",
       "      <td>3.29</td>\n",
       "      <td>34.76</td>\n",
       "      <td>0.00</td>\n",
       "      <td>0.29</td>\n",
       "      <td>0.65</td>\n",
       "      <td>1.25</td>\n",
       "      <td>1.95</td>\n",
       "      <td>3.75</td>\n",
       "      <td>6.75</td>\n",
       "      <td>14.95</td>\n",
       "      <td>10953.50</td>\n",
       "    </tr>\n",
       "    <tr>\n",
       "      <th>Customer ID</th>\n",
       "      <td>407695.00</td>\n",
       "      <td>15368.50</td>\n",
       "      <td>1679.80</td>\n",
       "      <td>12346.00</td>\n",
       "      <td>12435.00</td>\n",
       "      <td>13044.00</td>\n",
       "      <td>13997.00</td>\n",
       "      <td>15321.00</td>\n",
       "      <td>16812.00</td>\n",
       "      <td>17706.00</td>\n",
       "      <td>18196.00</td>\n",
       "      <td>18287.00</td>\n",
       "    </tr>\n",
       "  </tbody>\n",
       "</table>\n",
       "</div>"
      ],
      "text/plain": [
       "                count     mean     std      min       1%      10%      25%      50%      75%      90%      99%      max\n",
       "Quantity    407695.00    13.59   96.84     1.00     1.00     1.00     2.00     5.00    12.00    24.00   144.00 19152.00\n",
       "Price       407695.00     3.29   34.76     0.00     0.29     0.65     1.25     1.95     3.75     6.75    14.95 10953.50\n",
       "Customer ID 407695.00 15368.50 1679.80 12346.00 12435.00 13044.00 13997.00 15321.00 16812.00 17706.00 18196.00 18287.00"
      ]
     },
     "execution_count": 41,
     "metadata": {},
     "output_type": "execute_result"
    }
   ],
   "source": [
    "df.describe([0.01, 0.1, 0.25, 0.5, 0.75, 0.90, 0.99]).T"
   ]
  },
  {
   "cell_type": "code",
   "execution_count": 42,
   "id": "5de60630-1d7f-4be5-b032-8a73b5fa3c3b",
   "metadata": {
    "tags": []
   },
   "outputs": [
    {
     "data": {
      "text/plain": [
       "array([22076, 48185, 'M', 22065, 22142, 85042, 21143, 79320, 22355, 21533,\n",
       "       'TEST001', 21662, 22459, 22458, 22376, 21765, 20914, 22423, 22690,\n",
       "       22472, 22202, '46000M', 22218, 22630, 22121, 21843, 22624, 22846,\n",
       "       22845, 22841], dtype=object)"
      ]
     },
     "execution_count": 42,
     "metadata": {},
     "output_type": "execute_result"
    }
   ],
   "source": [
    "df[df[\"Price\"] == 0][\"StockCode\"].unique()"
   ]
  },
  {
   "cell_type": "code",
   "execution_count": 43,
   "id": "bb0fb62a-1404-4532-b284-a9f7704743d9",
   "metadata": {
    "tags": []
   },
   "outputs": [],
   "source": [
    "df = df[df[\"StockCode\"] != \"M\"]"
   ]
  },
  {
   "cell_type": "code",
   "execution_count": 44,
   "id": "90d73774-e995-4542-981e-c8bfd7aec573",
   "metadata": {
    "tags": []
   },
   "outputs": [],
   "source": [
    "invalid_codes = df[df[\"StockCode\"].astype(str).str.contains(r\"[a-zA-Z]{3,}\")][\"StockCode\"].unique().tolist()"
   ]
  },
  {
   "cell_type": "code",
   "execution_count": 45,
   "id": "894414c2-8679-4d97-9e4c-603783907990",
   "metadata": {
    "tags": []
   },
   "outputs": [
    {
     "data": {
      "text/plain": [
       "['POST', 'BANK CHARGES', 'TEST001', 'TEST002', 'PADS', 'ADJUST', 'ADJUST2']"
      ]
     },
     "execution_count": 45,
     "metadata": {},
     "output_type": "execute_result"
    }
   ],
   "source": [
    "invalid_codes"
   ]
  },
  {
   "cell_type": "code",
   "execution_count": 46,
   "id": "ba91893d-29a1-43b4-b74d-265895999408",
   "metadata": {
    "tags": []
   },
   "outputs": [
    {
     "data": {
      "text/html": [
       "<div>\n",
       "<style scoped>\n",
       "    .dataframe tbody tr th:only-of-type {\n",
       "        vertical-align: middle;\n",
       "    }\n",
       "\n",
       "    .dataframe tbody tr th {\n",
       "        vertical-align: top;\n",
       "    }\n",
       "\n",
       "    .dataframe thead th {\n",
       "        text-align: right;\n",
       "    }\n",
       "</style>\n",
       "<table border=\"1\" class=\"dataframe\">\n",
       "  <thead>\n",
       "    <tr style=\"text-align: right;\">\n",
       "      <th></th>\n",
       "      <th>Invoice</th>\n",
       "      <th>Quantity</th>\n",
       "      <th>Price</th>\n",
       "      <th>Customer ID</th>\n",
       "    </tr>\n",
       "    <tr>\n",
       "      <th>StockCode</th>\n",
       "      <th></th>\n",
       "      <th></th>\n",
       "      <th></th>\n",
       "      <th></th>\n",
       "    </tr>\n",
       "  </thead>\n",
       "  <tbody>\n",
       "    <tr>\n",
       "      <th>ADJUST</th>\n",
       "      <td>32</td>\n",
       "      <td>32</td>\n",
       "      <td>3538.52</td>\n",
       "      <td>25</td>\n",
       "    </tr>\n",
       "    <tr>\n",
       "      <th>ADJUST2</th>\n",
       "      <td>3</td>\n",
       "      <td>3</td>\n",
       "      <td>731.05</td>\n",
       "      <td>3</td>\n",
       "    </tr>\n",
       "    <tr>\n",
       "      <th>BANK CHARGES</th>\n",
       "      <td>20</td>\n",
       "      <td>20</td>\n",
       "      <td>300.00</td>\n",
       "      <td>12</td>\n",
       "    </tr>\n",
       "    <tr>\n",
       "      <th>PADS</th>\n",
       "      <td>14</td>\n",
       "      <td>14</td>\n",
       "      <td>0.01</td>\n",
       "      <td>12</td>\n",
       "    </tr>\n",
       "    <tr>\n",
       "      <th>POST</th>\n",
       "      <td>738</td>\n",
       "      <td>2212</td>\n",
       "      <td>19964.83</td>\n",
       "      <td>230</td>\n",
       "    </tr>\n",
       "    <tr>\n",
       "      <th>TEST001</th>\n",
       "      <td>11</td>\n",
       "      <td>60</td>\n",
       "      <td>40.50</td>\n",
       "      <td>4</td>\n",
       "    </tr>\n",
       "    <tr>\n",
       "      <th>TEST002</th>\n",
       "      <td>1</td>\n",
       "      <td>1</td>\n",
       "      <td>1.00</td>\n",
       "      <td>1</td>\n",
       "    </tr>\n",
       "  </tbody>\n",
       "</table>\n",
       "</div>"
      ],
      "text/plain": [
       "              Invoice  Quantity    Price  Customer ID\n",
       "StockCode                                            \n",
       "ADJUST             32        32  3538.52           25\n",
       "ADJUST2             3         3   731.05            3\n",
       "BANK CHARGES       20        20   300.00           12\n",
       "PADS               14        14     0.01           12\n",
       "POST              738      2212 19964.83          230\n",
       "TEST001            11        60    40.50            4\n",
       "TEST002             1         1     1.00            1"
      ]
     },
     "execution_count": 46,
     "metadata": {},
     "output_type": "execute_result"
    }
   ],
   "source": [
    "df[df[\"StockCode\"].isin (invalid_codes)].groupby([\"StockCode\"]).agg({\"Invoice\": \"nunique\",\n",
    "                                                                    \"Quantity\" : \"sum\",\n",
    "                                                                    \"Price\" : \"sum\",\n",
    "                                                                     \"Customer ID\" : \"nunique\"})"
   ]
  },
  {
   "cell_type": "code",
   "execution_count": 47,
   "id": "e90a84c8-878a-47cd-be67-234d058fbc5b",
   "metadata": {
    "tags": []
   },
   "outputs": [],
   "source": [
    "df = df[~df[\"StockCode\"].isin(invalid_codes)].reset_index(drop = True)"
   ]
  },
  {
   "cell_type": "code",
   "execution_count": 49,
   "id": "40b46990-0078-4921-9128-9bb84352f402",
   "metadata": {
    "tags": []
   },
   "outputs": [
    {
     "name": "stdout",
     "output_type": "stream",
     "text": [
      "##################### Shape #####################\n",
      "(406450, 8)\n",
      "##################### Types #####################\n",
      "Invoice                object\n",
      "StockCode              object\n",
      "Description            object\n",
      "Quantity                int64\n",
      "InvoiceDate    datetime64[ns]\n",
      "Price                 float64\n",
      "Customer ID           float64\n",
      "Country                object\n",
      "dtype: object\n",
      "##################### Head #####################\n",
      "  Invoice StockCode                          Description  Quantity         InvoiceDate  Price  Customer ID         Country\n",
      "0  489434     85048  15CM CHRISTMAS GLASS BALL 20 LIGHTS        12 2009-12-01 07:45:00   6.95     13085.00  United Kingdom\n",
      "1  489434    79323P                   PINK CHERRY LIGHTS        12 2009-12-01 07:45:00   6.75     13085.00  United Kingdom\n",
      "2  489434    79323W                  WHITE CHERRY LIGHTS        12 2009-12-01 07:45:00   6.75     13085.00  United Kingdom\n",
      "3  489434     22041         RECORD FRAME 7\" SINGLE SIZE         48 2009-12-01 07:45:00   2.10     13085.00  United Kingdom\n",
      "4  489434     21232       STRAWBERRY CERAMIC TRINKET BOX        24 2009-12-01 07:45:00   1.25     13085.00  United Kingdom\n",
      "##################### Tail #####################\n",
      "  Invoice StockCode                          Description  Quantity         InvoiceDate  Price  Customer ID         Country\n",
      "0  489434     85048  15CM CHRISTMAS GLASS BALL 20 LIGHTS        12 2009-12-01 07:45:00   6.95     13085.00  United Kingdom\n",
      "1  489434    79323P                   PINK CHERRY LIGHTS        12 2009-12-01 07:45:00   6.75     13085.00  United Kingdom\n",
      "2  489434    79323W                  WHITE CHERRY LIGHTS        12 2009-12-01 07:45:00   6.75     13085.00  United Kingdom\n",
      "3  489434     22041         RECORD FRAME 7\" SINGLE SIZE         48 2009-12-01 07:45:00   2.10     13085.00  United Kingdom\n",
      "4  489434     21232       STRAWBERRY CERAMIC TRINKET BOX        24 2009-12-01 07:45:00   1.25     13085.00  United Kingdom\n",
      "##################### NA #####################\n",
      "Invoice        0\n",
      "StockCode      0\n",
      "Description    0\n",
      "Quantity       0\n",
      "InvoiceDate    0\n",
      "Price          0\n",
      "Customer ID    0\n",
      "Country        0\n",
      "dtype: int64\n",
      "##################### Quantiles #####################\n",
      "                0.00     0.05     0.95     0.99     1.00\n",
      "Quantity        1.00     1.00    36.00   144.00 19152.00\n",
      "Price           0.00     0.42     8.50    12.75   295.00\n",
      "Customer ID 12346.00 12747.00 17913.00 18196.00 18287.00\n"
     ]
    }
   ],
   "source": [
    "check_df(df)"
   ]
  },
  {
   "cell_type": "code",
   "execution_count": 50,
   "id": "642ebae9-8bc2-4f99-93bf-a56723c15eed",
   "metadata": {
    "tags": []
   },
   "outputs": [],
   "source": [
    "df[\"TotalPrice\"] = df[\"Quantity\"] * df[\"Price\"]"
   ]
  },
  {
   "cell_type": "code",
   "execution_count": 51,
   "id": "cf9aca9b-e57b-4c4d-8f60-0772428f5680",
   "metadata": {
    "tags": []
   },
   "outputs": [
    {
     "data": {
      "text/html": [
       "<div>\n",
       "<style scoped>\n",
       "    .dataframe tbody tr th:only-of-type {\n",
       "        vertical-align: middle;\n",
       "    }\n",
       "\n",
       "    .dataframe tbody tr th {\n",
       "        vertical-align: top;\n",
       "    }\n",
       "\n",
       "    .dataframe thead th {\n",
       "        text-align: right;\n",
       "    }\n",
       "</style>\n",
       "<table border=\"1\" class=\"dataframe\">\n",
       "  <thead>\n",
       "    <tr style=\"text-align: right;\">\n",
       "      <th></th>\n",
       "      <th>count</th>\n",
       "      <th>mean</th>\n",
       "      <th>std</th>\n",
       "      <th>min</th>\n",
       "      <th>1%</th>\n",
       "      <th>10%</th>\n",
       "      <th>25%</th>\n",
       "      <th>50%</th>\n",
       "      <th>75%</th>\n",
       "      <th>90%</th>\n",
       "      <th>99%</th>\n",
       "      <th>max</th>\n",
       "    </tr>\n",
       "  </thead>\n",
       "  <tbody>\n",
       "    <tr>\n",
       "      <th>Quantity</th>\n",
       "      <td>406450.00</td>\n",
       "      <td>13.62</td>\n",
       "      <td>96.99</td>\n",
       "      <td>1.00</td>\n",
       "      <td>1.00</td>\n",
       "      <td>1.00</td>\n",
       "      <td>2.00</td>\n",
       "      <td>5.00</td>\n",
       "      <td>12.00</td>\n",
       "      <td>24.00</td>\n",
       "      <td>144.00</td>\n",
       "      <td>19152.00</td>\n",
       "    </tr>\n",
       "    <tr>\n",
       "      <th>Price</th>\n",
       "      <td>406450.00</td>\n",
       "      <td>3.01</td>\n",
       "      <td>4.37</td>\n",
       "      <td>0.00</td>\n",
       "      <td>0.29</td>\n",
       "      <td>0.65</td>\n",
       "      <td>1.25</td>\n",
       "      <td>1.95</td>\n",
       "      <td>3.75</td>\n",
       "      <td>6.75</td>\n",
       "      <td>12.75</td>\n",
       "      <td>295.00</td>\n",
       "    </tr>\n",
       "    <tr>\n",
       "      <th>Customer ID</th>\n",
       "      <td>406450.00</td>\n",
       "      <td>15373.48</td>\n",
       "      <td>1677.23</td>\n",
       "      <td>12346.00</td>\n",
       "      <td>12437.00</td>\n",
       "      <td>13050.00</td>\n",
       "      <td>14006.00</td>\n",
       "      <td>15325.00</td>\n",
       "      <td>16814.00</td>\n",
       "      <td>17706.00</td>\n",
       "      <td>18196.00</td>\n",
       "      <td>18287.00</td>\n",
       "    </tr>\n",
       "    <tr>\n",
       "      <th>TotalPrice</th>\n",
       "      <td>406450.00</td>\n",
       "      <td>21.36</td>\n",
       "      <td>69.14</td>\n",
       "      <td>0.00</td>\n",
       "      <td>0.65</td>\n",
       "      <td>2.10</td>\n",
       "      <td>4.95</td>\n",
       "      <td>11.85</td>\n",
       "      <td>19.50</td>\n",
       "      <td>35.40</td>\n",
       "      <td>197.10</td>\n",
       "      <td>15818.40</td>\n",
       "    </tr>\n",
       "  </tbody>\n",
       "</table>\n",
       "</div>"
      ],
      "text/plain": [
       "                count     mean     std      min       1%      10%      25%      50%      75%      90%      99%      max\n",
       "Quantity    406450.00    13.62   96.99     1.00     1.00     1.00     2.00     5.00    12.00    24.00   144.00 19152.00\n",
       "Price       406450.00     3.01    4.37     0.00     0.29     0.65     1.25     1.95     3.75     6.75    12.75   295.00\n",
       "Customer ID 406450.00 15373.48 1677.23 12346.00 12437.00 13050.00 14006.00 15325.00 16814.00 17706.00 18196.00 18287.00\n",
       "TotalPrice  406450.00    21.36   69.14     0.00     0.65     2.10     4.95    11.85    19.50    35.40   197.10 15818.40"
      ]
     },
     "execution_count": 51,
     "metadata": {},
     "output_type": "execute_result"
    }
   ],
   "source": [
    "df.describe([0.01, 0.1, 0.25, 0.5, 0.75, 0.90, 0.99]).T"
   ]
  },
  {
   "cell_type": "code",
   "execution_count": 52,
   "id": "2914ea15-fe3c-44c9-ba15-31c57b1ef272",
   "metadata": {
    "tags": []
   },
   "outputs": [],
   "source": [
    "max_invoice_date = df[\"InvoiceDate\"].max()"
   ]
  },
  {
   "cell_type": "code",
   "execution_count": 53,
   "id": "3c1adec0-e426-4a3c-ba13-baf4eb52408b",
   "metadata": {
    "tags": []
   },
   "outputs": [
    {
     "data": {
      "text/plain": [
       "Timestamp('2010-12-09 20:01:00')"
      ]
     },
     "execution_count": 53,
     "metadata": {},
     "output_type": "execute_result"
    }
   ],
   "source": [
    "max_invoice_date"
   ]
  },
  {
   "cell_type": "code",
   "execution_count": 57,
   "id": "fa967592-5db0-41ed-bd23-48605f26cd24",
   "metadata": {
    "tags": []
   },
   "outputs": [],
   "source": [
    "today_date = (max_invoice_date + dt.timedelta (days=2))"
   ]
  },
  {
   "cell_type": "code",
   "execution_count": 58,
   "id": "f5519937-5355-4351-b11c-61a0cf014270",
   "metadata": {
    "tags": []
   },
   "outputs": [
    {
     "data": {
      "text/plain": [
       "Timestamp('2010-12-11 20:01:00')"
      ]
     },
     "execution_count": 58,
     "metadata": {},
     "output_type": "execute_result"
    }
   ],
   "source": [
    "today_date"
   ]
  },
  {
   "cell_type": "code",
   "execution_count": 60,
   "id": "bdea1301-7c78-4b2b-b6d2-ebae59765b25",
   "metadata": {
    "tags": []
   },
   "outputs": [],
   "source": [
    "rfm = df.groupby(\"Customer ID\").agg({\"InvoiceDate\" : lambda date : (today_date - date.max()).days,\n",
    "                                    \"Invoice\" : \"nunique\",\n",
    "                                    \"TotalPrice\" : \"sum\"})"
   ]
  },
  {
   "cell_type": "code",
   "execution_count": 61,
   "id": "0a37d8e7-195a-42be-ac37-c4e7644a1c84",
   "metadata": {
    "tags": []
   },
   "outputs": [
    {
     "data": {
      "text/html": [
       "<div>\n",
       "<style scoped>\n",
       "    .dataframe tbody tr th:only-of-type {\n",
       "        vertical-align: middle;\n",
       "    }\n",
       "\n",
       "    .dataframe tbody tr th {\n",
       "        vertical-align: top;\n",
       "    }\n",
       "\n",
       "    .dataframe thead th {\n",
       "        text-align: right;\n",
       "    }\n",
       "</style>\n",
       "<table border=\"1\" class=\"dataframe\">\n",
       "  <thead>\n",
       "    <tr style=\"text-align: right;\">\n",
       "      <th></th>\n",
       "      <th>InvoiceDate</th>\n",
       "      <th>Invoice</th>\n",
       "      <th>TotalPrice</th>\n",
       "    </tr>\n",
       "    <tr>\n",
       "      <th>Customer ID</th>\n",
       "      <th></th>\n",
       "      <th></th>\n",
       "      <th></th>\n",
       "    </tr>\n",
       "  </thead>\n",
       "  <tbody>\n",
       "    <tr>\n",
       "      <th>12346.00</th>\n",
       "      <td>166</td>\n",
       "      <td>2</td>\n",
       "      <td>169.36</td>\n",
       "    </tr>\n",
       "    <tr>\n",
       "      <th>12347.00</th>\n",
       "      <td>4</td>\n",
       "      <td>2</td>\n",
       "      <td>1323.32</td>\n",
       "    </tr>\n",
       "    <tr>\n",
       "      <th>12348.00</th>\n",
       "      <td>75</td>\n",
       "      <td>1</td>\n",
       "      <td>221.16</td>\n",
       "    </tr>\n",
       "    <tr>\n",
       "      <th>12349.00</th>\n",
       "      <td>44</td>\n",
       "      <td>2</td>\n",
       "      <td>2221.14</td>\n",
       "    </tr>\n",
       "    <tr>\n",
       "      <th>12351.00</th>\n",
       "      <td>12</td>\n",
       "      <td>1</td>\n",
       "      <td>300.93</td>\n",
       "    </tr>\n",
       "  </tbody>\n",
       "</table>\n",
       "</div>"
      ],
      "text/plain": [
       "             InvoiceDate  Invoice  TotalPrice\n",
       "Customer ID                                  \n",
       "12346.00             166        2      169.36\n",
       "12347.00               4        2     1323.32\n",
       "12348.00              75        1      221.16\n",
       "12349.00              44        2     2221.14\n",
       "12351.00              12        1      300.93"
      ]
     },
     "execution_count": 61,
     "metadata": {},
     "output_type": "execute_result"
    }
   ],
   "source": [
    "rfm.head()"
   ]
  },
  {
   "cell_type": "code",
   "execution_count": 62,
   "id": "7e885994-79e7-4faf-a84b-703345ab83b6",
   "metadata": {
    "tags": []
   },
   "outputs": [],
   "source": [
    "rfm.columns = [\"Recency\", \"Frequency\", \"Monetary\"]"
   ]
  },
  {
   "cell_type": "code",
   "execution_count": 63,
   "id": "435b18c1-2827-47fb-97c9-ad4918c34b16",
   "metadata": {
    "tags": []
   },
   "outputs": [
    {
     "data": {
      "text/html": [
       "<div>\n",
       "<style scoped>\n",
       "    .dataframe tbody tr th:only-of-type {\n",
       "        vertical-align: middle;\n",
       "    }\n",
       "\n",
       "    .dataframe tbody tr th {\n",
       "        vertical-align: top;\n",
       "    }\n",
       "\n",
       "    .dataframe thead th {\n",
       "        text-align: right;\n",
       "    }\n",
       "</style>\n",
       "<table border=\"1\" class=\"dataframe\">\n",
       "  <thead>\n",
       "    <tr style=\"text-align: right;\">\n",
       "      <th></th>\n",
       "      <th>Recency</th>\n",
       "      <th>Frequency</th>\n",
       "      <th>Monetary</th>\n",
       "    </tr>\n",
       "    <tr>\n",
       "      <th>Customer ID</th>\n",
       "      <th></th>\n",
       "      <th></th>\n",
       "      <th></th>\n",
       "    </tr>\n",
       "  </thead>\n",
       "  <tbody>\n",
       "    <tr>\n",
       "      <th>12346.00</th>\n",
       "      <td>166</td>\n",
       "      <td>2</td>\n",
       "      <td>169.36</td>\n",
       "    </tr>\n",
       "    <tr>\n",
       "      <th>12347.00</th>\n",
       "      <td>4</td>\n",
       "      <td>2</td>\n",
       "      <td>1323.32</td>\n",
       "    </tr>\n",
       "    <tr>\n",
       "      <th>12348.00</th>\n",
       "      <td>75</td>\n",
       "      <td>1</td>\n",
       "      <td>221.16</td>\n",
       "    </tr>\n",
       "    <tr>\n",
       "      <th>12349.00</th>\n",
       "      <td>44</td>\n",
       "      <td>2</td>\n",
       "      <td>2221.14</td>\n",
       "    </tr>\n",
       "    <tr>\n",
       "      <th>12351.00</th>\n",
       "      <td>12</td>\n",
       "      <td>1</td>\n",
       "      <td>300.93</td>\n",
       "    </tr>\n",
       "  </tbody>\n",
       "</table>\n",
       "</div>"
      ],
      "text/plain": [
       "             Recency  Frequency  Monetary\n",
       "Customer ID                              \n",
       "12346.00         166          2    169.36\n",
       "12347.00           4          2   1323.32\n",
       "12348.00          75          1    221.16\n",
       "12349.00          44          2   2221.14\n",
       "12351.00          12          1    300.93"
      ]
     },
     "execution_count": 63,
     "metadata": {},
     "output_type": "execute_result"
    }
   ],
   "source": [
    "rfm.head()"
   ]
  },
  {
   "cell_type": "code",
   "execution_count": 69,
   "id": "16185252-0991-4295-a529-ca10c421b81c",
   "metadata": {
    "tags": []
   },
   "outputs": [],
   "source": [
    "rfm = rfm[(rfm[\"Monetary\"]) > 0 & (rfm[\"Frequency\"] > 0)]"
   ]
  },
  {
   "cell_type": "code",
   "execution_count": 70,
   "id": "2656acb7-c5a3-4683-9e9a-1502294ec6cf",
   "metadata": {
    "tags": []
   },
   "outputs": [
    {
     "data": {
      "text/html": [
       "<div>\n",
       "<style scoped>\n",
       "    .dataframe tbody tr th:only-of-type {\n",
       "        vertical-align: middle;\n",
       "    }\n",
       "\n",
       "    .dataframe tbody tr th {\n",
       "        vertical-align: top;\n",
       "    }\n",
       "\n",
       "    .dataframe thead th {\n",
       "        text-align: right;\n",
       "    }\n",
       "</style>\n",
       "<table border=\"1\" class=\"dataframe\">\n",
       "  <thead>\n",
       "    <tr style=\"text-align: right;\">\n",
       "      <th></th>\n",
       "      <th>count</th>\n",
       "      <th>mean</th>\n",
       "      <th>std</th>\n",
       "      <th>min</th>\n",
       "      <th>1%</th>\n",
       "      <th>10%</th>\n",
       "      <th>25%</th>\n",
       "      <th>50%</th>\n",
       "      <th>75%</th>\n",
       "      <th>90%</th>\n",
       "      <th>99%</th>\n",
       "      <th>max</th>\n",
       "    </tr>\n",
       "  </thead>\n",
       "  <tbody>\n",
       "    <tr>\n",
       "      <th>Recency</th>\n",
       "      <td>4286.00</td>\n",
       "      <td>91.56</td>\n",
       "      <td>96.35</td>\n",
       "      <td>2.00</td>\n",
       "      <td>2.00</td>\n",
       "      <td>9.00</td>\n",
       "      <td>19.00</td>\n",
       "      <td>53.00</td>\n",
       "      <td>136.75</td>\n",
       "      <td>255.00</td>\n",
       "      <td>369.00</td>\n",
       "      <td>375.00</td>\n",
       "    </tr>\n",
       "    <tr>\n",
       "      <th>Frequency</th>\n",
       "      <td>4286.00</td>\n",
       "      <td>4.11</td>\n",
       "      <td>4.89</td>\n",
       "      <td>1.00</td>\n",
       "      <td>1.00</td>\n",
       "      <td>1.00</td>\n",
       "      <td>1.00</td>\n",
       "      <td>2.00</td>\n",
       "      <td>5.00</td>\n",
       "      <td>9.00</td>\n",
       "      <td>31.00</td>\n",
       "      <td>31.00</td>\n",
       "    </tr>\n",
       "    <tr>\n",
       "      <th>Monetary</th>\n",
       "      <td>4286.00</td>\n",
       "      <td>1588.58</td>\n",
       "      <td>2523.16</td>\n",
       "      <td>1.55</td>\n",
       "      <td>40.76</td>\n",
       "      <td>157.03</td>\n",
       "      <td>307.66</td>\n",
       "      <td>702.25</td>\n",
       "      <td>1703.98</td>\n",
       "      <td>3761.56</td>\n",
       "      <td>15243.20</td>\n",
       "      <td>15243.20</td>\n",
       "    </tr>\n",
       "  </tbody>\n",
       "</table>\n",
       "</div>"
      ],
      "text/plain": [
       "            count    mean     std  min    1%    10%    25%    50%     75%     90%      99%      max\n",
       "Recency   4286.00   91.56   96.35 2.00  2.00   9.00  19.00  53.00  136.75  255.00   369.00   375.00\n",
       "Frequency 4286.00    4.11    4.89 1.00  1.00   1.00   1.00   2.00    5.00    9.00    31.00    31.00\n",
       "Monetary  4286.00 1588.58 2523.16 1.55 40.76 157.03 307.66 702.25 1703.98 3761.56 15243.20 15243.20"
      ]
     },
     "execution_count": 70,
     "metadata": {},
     "output_type": "execute_result"
    }
   ],
   "source": [
    "rfm.describe ([0.01, 0.1, 0.25, 0.5, 0.75, 0.90, 0.99]).T"
   ]
  },
  {
   "cell_type": "code",
   "execution_count": 71,
   "id": "7ed128c5-7f00-4b75-a730-4a1bfb9f840e",
   "metadata": {
    "tags": []
   },
   "outputs": [
    {
     "name": "stdout",
     "output_type": "stream",
     "text": [
      "Recency False\n",
      "Frequency False\n",
      "Monetary False\n"
     ]
    }
   ],
   "source": [
    "for col in rfm.columns:\n",
    "    print( col, check_outlier(rfm, col))"
   ]
  },
  {
   "cell_type": "code",
   "execution_count": 72,
   "id": "d1bc980b-fd9c-4831-96db-732f7356e721",
   "metadata": {
    "tags": []
   },
   "outputs": [],
   "source": [
    "replace_with_thresholds(rfm, \"Frequency\")"
   ]
  },
  {
   "cell_type": "code",
   "execution_count": 73,
   "id": "f39e1a35-7842-4dc3-bb10-9eeb59ca8206",
   "metadata": {
    "tags": []
   },
   "outputs": [],
   "source": [
    "replace_with_thresholds(rfm, \"Monetary\")"
   ]
  },
  {
   "cell_type": "code",
   "execution_count": 74,
   "id": "e0f055cc-d2c8-416a-b2a4-8492bf137648",
   "metadata": {
    "tags": []
   },
   "outputs": [
    {
     "name": "stdout",
     "output_type": "stream",
     "text": [
      "Recency False\n",
      "Frequency False\n",
      "Monetary False\n"
     ]
    }
   ],
   "source": [
    "for col in rfm.columns:\n",
    "    print( col, check_outlier(rfm, col))"
   ]
  },
  {
   "cell_type": "code",
   "execution_count": 75,
   "id": "698f04bf-f0c9-4696-bbe0-6c43339567cf",
   "metadata": {
    "tags": []
   },
   "outputs": [
    {
     "data": {
      "image/png": "[encoded data removed]",
      "text/plain": [
       "<Figure size 800x550 with 1 Axes>"
      ]
     },
     "metadata": {},
     "output_type": "display_data"
    }
   ],
   "source": [
    "rfm[\"Recency\"].hist(bins = 20)\n",
    "plt.title (\"Recency\")\n",
    "plt.show ()"
   ]
  },
  {
   "cell_type": "code",
   "execution_count": 77,
   "id": "70c74713-2259-4d43-a57a-9cb7594a6432",
   "metadata": {
    "tags": []
   },
   "outputs": [
    {
     "data": {
      "image/png": "[encoded data removed]",
      "text/plain": [
       "<Figure size 800x550 with 1 Axes>"
      ]
     },
     "metadata": {},
     "output_type": "display_data"
    }
   ],
   "source": [
    "rfm[\"Frequency\"].hist(bins = 20)\n",
    "plt.title (\"Frequency\")\n",
    "plt.show ()"
   ]
  },
  {
   "cell_type": "code",
   "execution_count": 78,
   "id": "224a9f21-1768-408e-870c-653c81546b73",
   "metadata": {
    "tags": []
   },
   "outputs": [],
   "source": [
    "# LOG TRANSFORMATION\n",
    "for col in [\"Recency\", \"Frequency\"]:\n",
    "    rfm[f\"LOG_{col}\"] = np.log1p (rfm[col])"
   ]
  },
  {
   "cell_type": "code",
   "execution_count": 80,
   "id": "c2d67b78-5eba-4be0-b774-60830c231b9a",
   "metadata": {
    "tags": []
   },
   "outputs": [
    {
     "data": {
      "text/html": [
       "<div>\n",
       "<style scoped>\n",
       "    .dataframe tbody tr th:only-of-type {\n",
       "        vertical-align: middle;\n",
       "    }\n",
       "\n",
       "    .dataframe tbody tr th {\n",
       "        vertical-align: top;\n",
       "    }\n",
       "\n",
       "    .dataframe thead th {\n",
       "        text-align: right;\n",
       "    }\n",
       "</style>\n",
       "<table border=\"1\" class=\"dataframe\">\n",
       "  <thead>\n",
       "    <tr style=\"text-align: right;\">\n",
       "      <th></th>\n",
       "      <th>Recency</th>\n",
       "      <th>Frequency</th>\n",
       "      <th>Monetary</th>\n",
       "      <th>LOG_Recency</th>\n",
       "      <th>LOG_Frequency</th>\n",
       "    </tr>\n",
       "    <tr>\n",
       "      <th>Customer ID</th>\n",
       "      <th></th>\n",
       "      <th></th>\n",
       "      <th></th>\n",
       "      <th></th>\n",
       "      <th></th>\n",
       "    </tr>\n",
       "  </thead>\n",
       "  <tbody>\n",
       "    <tr>\n",
       "      <th>12346.00</th>\n",
       "      <td>166</td>\n",
       "      <td>2</td>\n",
       "      <td>169.36</td>\n",
       "      <td>5.12</td>\n",
       "      <td>1.10</td>\n",
       "    </tr>\n",
       "    <tr>\n",
       "      <th>12347.00</th>\n",
       "      <td>4</td>\n",
       "      <td>2</td>\n",
       "      <td>1323.32</td>\n",
       "      <td>1.61</td>\n",
       "      <td>1.10</td>\n",
       "    </tr>\n",
       "    <tr>\n",
       "      <th>12348.00</th>\n",
       "      <td>75</td>\n",
       "      <td>1</td>\n",
       "      <td>221.16</td>\n",
       "      <td>4.33</td>\n",
       "      <td>0.69</td>\n",
       "    </tr>\n",
       "    <tr>\n",
       "      <th>12349.00</th>\n",
       "      <td>44</td>\n",
       "      <td>2</td>\n",
       "      <td>2221.14</td>\n",
       "      <td>3.81</td>\n",
       "      <td>1.10</td>\n",
       "    </tr>\n",
       "    <tr>\n",
       "      <th>12351.00</th>\n",
       "      <td>12</td>\n",
       "      <td>1</td>\n",
       "      <td>300.93</td>\n",
       "      <td>2.56</td>\n",
       "      <td>0.69</td>\n",
       "    </tr>\n",
       "  </tbody>\n",
       "</table>\n",
       "</div>"
      ],
      "text/plain": [
       "             Recency  Frequency  Monetary  LOG_Recency  LOG_Frequency\n",
       "Customer ID                                                          \n",
       "12346.00         166          2    169.36         5.12           1.10\n",
       "12347.00           4          2   1323.32         1.61           1.10\n",
       "12348.00          75          1    221.16         4.33           0.69\n",
       "12349.00          44          2   2221.14         3.81           1.10\n",
       "12351.00          12          1    300.93         2.56           0.69"
      ]
     },
     "execution_count": 80,
     "metadata": {},
     "output_type": "execute_result"
    }
   ],
   "source": [
    "rfm.head()"
   ]
  },
  {
   "cell_type": "code",
   "execution_count": 82,
   "id": "7fed39b6-e58d-45ac-8cb2-4e0077967c86",
   "metadata": {
    "tags": []
   },
   "outputs": [],
   "source": [
    "# SCALER\n",
    "sc = StandardScaler()\n",
    "sc.fit(rfm[[\"LOG_Recency\", \"LOG_Frequency\"]])\n",
    "scaled_rf = sc.transform(rfm[[\"LOG_Recency\", \"LOG_Frequency\"]])"
   ]
  },
  {
   "cell_type": "code",
   "execution_count": 83,
   "id": "8bb2a8aa-7da4-4f78-b078-2d72006b161f",
   "metadata": {
    "tags": []
   },
   "outputs": [],
   "source": [
    "scaled_df = pd.DataFrame (index = rfm.index, columns = [\"LOG_Recency\", \"LOG_Frequency\"], data = scaled_rf)"
   ]
  },
  {
   "cell_type": "code",
   "execution_count": 84,
   "id": "2f1d5055-ba80-4440-bfcc-a4286c6876bf",
   "metadata": {
    "tags": []
   },
   "outputs": [
    {
     "data": {
      "text/html": [
       "<div>\n",
       "<style scoped>\n",
       "    .dataframe tbody tr th:only-of-type {\n",
       "        vertical-align: middle;\n",
       "    }\n",
       "\n",
       "    .dataframe tbody tr th {\n",
       "        vertical-align: top;\n",
       "    }\n",
       "\n",
       "    .dataframe thead th {\n",
       "        text-align: right;\n",
       "    }\n",
       "</style>\n",
       "<table border=\"1\" class=\"dataframe\">\n",
       "  <thead>\n",
       "    <tr style=\"text-align: right;\">\n",
       "      <th></th>\n",
       "      <th>LOG_Recency</th>\n",
       "      <th>LOG_Frequency</th>\n",
       "    </tr>\n",
       "    <tr>\n",
       "      <th>Customer ID</th>\n",
       "      <th></th>\n",
       "      <th></th>\n",
       "    </tr>\n",
       "  </thead>\n",
       "  <tbody>\n",
       "    <tr>\n",
       "      <th>12346.00</th>\n",
       "      <td>0.99</td>\n",
       "      <td>-0.40</td>\n",
       "    </tr>\n",
       "    <tr>\n",
       "      <th>12347.00</th>\n",
       "      <td>-1.85</td>\n",
       "      <td>-0.40</td>\n",
       "    </tr>\n",
       "    <tr>\n",
       "      <th>12348.00</th>\n",
       "      <td>0.35</td>\n",
       "      <td>-1.00</td>\n",
       "    </tr>\n",
       "    <tr>\n",
       "      <th>12349.00</th>\n",
       "      <td>-0.07</td>\n",
       "      <td>-0.40</td>\n",
       "    </tr>\n",
       "    <tr>\n",
       "      <th>12351.00</th>\n",
       "      <td>-1.08</td>\n",
       "      <td>-1.00</td>\n",
       "    </tr>\n",
       "    <tr>\n",
       "      <th>...</th>\n",
       "      <td>...</td>\n",
       "      <td>...</td>\n",
       "    </tr>\n",
       "    <tr>\n",
       "      <th>18283.00</th>\n",
       "      <td>-0.73</td>\n",
       "      <td>0.87</td>\n",
       "    </tr>\n",
       "    <tr>\n",
       "      <th>18284.00</th>\n",
       "      <td>0.27</td>\n",
       "      <td>-1.00</td>\n",
       "    </tr>\n",
       "    <tr>\n",
       "      <th>18285.00</th>\n",
       "      <td>1.45</td>\n",
       "      <td>-1.00</td>\n",
       "    </tr>\n",
       "    <tr>\n",
       "      <th>18286.00</th>\n",
       "      <td>0.68</td>\n",
       "      <td>-0.40</td>\n",
       "    </tr>\n",
       "    <tr>\n",
       "      <th>18287.00</th>\n",
       "      <td>-0.73</td>\n",
       "      <td>0.37</td>\n",
       "    </tr>\n",
       "  </tbody>\n",
       "</table>\n",
       "<p>4286 rows × 2 columns</p>\n",
       "</div>"
      ],
      "text/plain": [
       "             LOG_Recency  LOG_Frequency\n",
       "Customer ID                            \n",
       "12346.00            0.99          -0.40\n",
       "12347.00           -1.85          -0.40\n",
       "12348.00            0.35          -1.00\n",
       "12349.00           -0.07          -0.40\n",
       "12351.00           -1.08          -1.00\n",
       "...                  ...            ...\n",
       "18283.00           -0.73           0.87\n",
       "18284.00            0.27          -1.00\n",
       "18285.00            1.45          -1.00\n",
       "18286.00            0.68          -0.40\n",
       "18287.00           -0.73           0.37\n",
       "\n",
       "[4286 rows x 2 columns]"
      ]
     },
     "execution_count": 84,
     "metadata": {},
     "output_type": "execute_result"
    }
   ],
   "source": [
    "scaled_df"
   ]
  },
  {
   "cell_type": "code",
   "execution_count": 85,
   "id": "e463f389-e157-4260-a156-2096b0851b4d",
   "metadata": {
    "tags": []
   },
   "outputs": [],
   "source": [
    "# Determining Optimal Numbers of Cluster"
   ]
  },
  {
   "cell_type": "code",
   "execution_count": 86,
   "id": "229faa58-3542-4a3a-aa77-e558d85bea74",
   "metadata": {
    "tags": []
   },
   "outputs": [],
   "source": [
    "kmeans = KMeans()"
   ]
  },
  {
   "cell_type": "code",
   "execution_count": 88,
   "id": "c1ce3364-493e-4058-9927-db5fe4541c03",
   "metadata": {
    "tags": []
   },
   "outputs": [
    {
     "data": {
      "image/png": "[encoded data removed]",
      "text/plain": [
       "<Figure size 800x550 with 2 Axes>"
      ]
     },
     "metadata": {},
     "output_type": "display_data"
    }
   ],
   "source": [
    "elbow = KElbowVisualizer(kmeans, k = 30)\n",
    "elbow.fit(scaled_df)\n",
    "elbow.show();"
   ]
  },
  {
   "cell_type": "code",
   "execution_count": 89,
   "id": "ef20fe44-ce1f-4152-8be7-45336f9f8595",
   "metadata": {
    "tags": []
   },
   "outputs": [],
   "source": [
    "k_ = elbow.elbow_value_"
   ]
  },
  {
   "cell_type": "code",
   "execution_count": 90,
   "id": "8df0df6f-7d65-44e0-9b8b-95c7d434a341",
   "metadata": {
    "tags": []
   },
   "outputs": [
    {
     "data": {
      "text/plain": [
       "8"
      ]
     },
     "execution_count": 90,
     "metadata": {},
     "output_type": "execute_result"
    }
   ],
   "source": [
    "k_"
   ]
  },
  {
   "cell_type": "code",
   "execution_count": 91,
   "id": "142056ff-1093-4357-8ce1-75ada2f422ae",
   "metadata": {
    "tags": []
   },
   "outputs": [],
   "source": [
    "# K-Means"
   ]
  },
  {
   "cell_type": "code",
   "execution_count": 92,
   "id": "23b843a8-312e-42d4-a24e-5ebab53bf2e8",
   "metadata": {
    "tags": []
   },
   "outputs": [],
   "source": [
    "k_means = KMeans (n_clusters= k_, random_state= 99).fit(scaled_df)"
   ]
  },
  {
   "cell_type": "code",
   "execution_count": 93,
   "id": "1711e141-681b-45b4-88a6-9954fe37cce3",
   "metadata": {
    "tags": []
   },
   "outputs": [],
   "source": [
    "segments = k_means.labels_"
   ]
  },
  {
   "cell_type": "code",
   "execution_count": 94,
   "id": "5e08dc85-822c-45ce-a595-bcbefc351922",
   "metadata": {
    "tags": []
   },
   "outputs": [],
   "source": [
    "rfm[\"KMeans_Segments\"] = segments"
   ]
  },
  {
   "cell_type": "code",
   "execution_count": 95,
   "id": "09f08cea-ba69-433e-82f0-c8f45e2099de",
   "metadata": {
    "tags": []
   },
   "outputs": [
    {
     "data": {
      "text/html": [
       "<div>\n",
       "<style scoped>\n",
       "    .dataframe tbody tr th:only-of-type {\n",
       "        vertical-align: middle;\n",
       "    }\n",
       "\n",
       "    .dataframe tbody tr th {\n",
       "        vertical-align: top;\n",
       "    }\n",
       "\n",
       "    .dataframe thead th {\n",
       "        text-align: right;\n",
       "    }\n",
       "</style>\n",
       "<table border=\"1\" class=\"dataframe\">\n",
       "  <thead>\n",
       "    <tr style=\"text-align: right;\">\n",
       "      <th></th>\n",
       "      <th>Recency</th>\n",
       "      <th>Frequency</th>\n",
       "      <th>Monetary</th>\n",
       "      <th>LOG_Recency</th>\n",
       "      <th>LOG_Frequency</th>\n",
       "      <th>KMeans_Segments</th>\n",
       "    </tr>\n",
       "    <tr>\n",
       "      <th>Customer ID</th>\n",
       "      <th></th>\n",
       "      <th></th>\n",
       "      <th></th>\n",
       "      <th></th>\n",
       "      <th></th>\n",
       "      <th></th>\n",
       "    </tr>\n",
       "  </thead>\n",
       "  <tbody>\n",
       "    <tr>\n",
       "      <th>12346.00</th>\n",
       "      <td>166</td>\n",
       "      <td>2</td>\n",
       "      <td>169.36</td>\n",
       "      <td>5.12</td>\n",
       "      <td>1.10</td>\n",
       "      <td>5</td>\n",
       "    </tr>\n",
       "    <tr>\n",
       "      <th>12347.00</th>\n",
       "      <td>4</td>\n",
       "      <td>2</td>\n",
       "      <td>1323.32</td>\n",
       "      <td>1.61</td>\n",
       "      <td>1.10</td>\n",
       "      <td>7</td>\n",
       "    </tr>\n",
       "    <tr>\n",
       "      <th>12348.00</th>\n",
       "      <td>75</td>\n",
       "      <td>1</td>\n",
       "      <td>221.16</td>\n",
       "      <td>4.33</td>\n",
       "      <td>0.69</td>\n",
       "      <td>0</td>\n",
       "    </tr>\n",
       "    <tr>\n",
       "      <th>12349.00</th>\n",
       "      <td>44</td>\n",
       "      <td>2</td>\n",
       "      <td>2221.14</td>\n",
       "      <td>3.81</td>\n",
       "      <td>1.10</td>\n",
       "      <td>0</td>\n",
       "    </tr>\n",
       "    <tr>\n",
       "      <th>12351.00</th>\n",
       "      <td>12</td>\n",
       "      <td>1</td>\n",
       "      <td>300.93</td>\n",
       "      <td>2.56</td>\n",
       "      <td>0.69</td>\n",
       "      <td>4</td>\n",
       "    </tr>\n",
       "  </tbody>\n",
       "</table>\n",
       "</div>"
      ],
      "text/plain": [
       "             Recency  Frequency  Monetary  LOG_Recency  LOG_Frequency  KMeans_Segments\n",
       "Customer ID                                                                           \n",
       "12346.00         166          2    169.36         5.12           1.10                5\n",
       "12347.00           4          2   1323.32         1.61           1.10                7\n",
       "12348.00          75          1    221.16         4.33           0.69                0\n",
       "12349.00          44          2   2221.14         3.81           1.10                0\n",
       "12351.00          12          1    300.93         2.56           0.69                4"
      ]
     },
     "execution_count": 95,
     "metadata": {},
     "output_type": "execute_result"
    }
   ],
   "source": [
    "rfm.head()"
   ]
  },
  {
   "cell_type": "code",
   "execution_count": 97,
   "id": "45ddc934-ebb9-4a8e-be77-e2e1ee8dcaba",
   "metadata": {
    "tags": []
   },
   "outputs": [
    {
     "data": {
      "text/html": [
       "<div>\n",
       "<style scoped>\n",
       "    .dataframe tbody tr th:only-of-type {\n",
       "        vertical-align: middle;\n",
       "    }\n",
       "\n",
       "    .dataframe tbody tr th {\n",
       "        vertical-align: top;\n",
       "    }\n",
       "\n",
       "    .dataframe thead tr th {\n",
       "        text-align: left;\n",
       "    }\n",
       "\n",
       "    .dataframe thead tr:last-of-type th {\n",
       "        text-align: right;\n",
       "    }\n",
       "</style>\n",
       "<table border=\"1\" class=\"dataframe\">\n",
       "  <thead>\n",
       "    <tr>\n",
       "      <th></th>\n",
       "      <th colspan=\"3\" halign=\"left\">Recency</th>\n",
       "      <th colspan=\"3\" halign=\"left\">Frequency</th>\n",
       "      <th colspan=\"3\" halign=\"left\">Monetary</th>\n",
       "    </tr>\n",
       "    <tr>\n",
       "      <th></th>\n",
       "      <th>mean</th>\n",
       "      <th>median</th>\n",
       "      <th>count</th>\n",
       "      <th>mean</th>\n",
       "      <th>median</th>\n",
       "      <th>count</th>\n",
       "      <th>mean</th>\n",
       "      <th>median</th>\n",
       "      <th>count</th>\n",
       "    </tr>\n",
       "    <tr>\n",
       "      <th>KMeans_Segments</th>\n",
       "      <th></th>\n",
       "      <th></th>\n",
       "      <th></th>\n",
       "      <th></th>\n",
       "      <th></th>\n",
       "      <th></th>\n",
       "      <th></th>\n",
       "      <th></th>\n",
       "      <th></th>\n",
       "    </tr>\n",
       "  </thead>\n",
       "  <tbody>\n",
       "    <tr>\n",
       "      <th>0</th>\n",
       "      <td>69.79</td>\n",
       "      <td>66.00</td>\n",
       "      <td>797</td>\n",
       "      <td>1.44</td>\n",
       "      <td>1.00</td>\n",
       "      <td>797</td>\n",
       "      <td>535.69</td>\n",
       "      <td>380.52</td>\n",
       "      <td>797</td>\n",
       "    </tr>\n",
       "    <tr>\n",
       "      <th>1</th>\n",
       "      <td>26.28</td>\n",
       "      <td>25.00</td>\n",
       "      <td>540</td>\n",
       "      <td>4.10</td>\n",
       "      <td>4.00</td>\n",
       "      <td>540</td>\n",
       "      <td>1545.30</td>\n",
       "      <td>1167.30</td>\n",
       "      <td>540</td>\n",
       "    </tr>\n",
       "    <tr>\n",
       "      <th>2</th>\n",
       "      <td>6.11</td>\n",
       "      <td>5.00</td>\n",
       "      <td>215</td>\n",
       "      <td>19.26</td>\n",
       "      <td>17.00</td>\n",
       "      <td>215</td>\n",
       "      <td>7835.58</td>\n",
       "      <td>6009.34</td>\n",
       "      <td>215</td>\n",
       "    </tr>\n",
       "    <tr>\n",
       "      <th>3</th>\n",
       "      <td>110.73</td>\n",
       "      <td>88.50</td>\n",
       "      <td>624</td>\n",
       "      <td>4.16</td>\n",
       "      <td>4.00</td>\n",
       "      <td>624</td>\n",
       "      <td>1681.16</td>\n",
       "      <td>1243.82</td>\n",
       "      <td>624</td>\n",
       "    </tr>\n",
       "    <tr>\n",
       "      <th>4</th>\n",
       "      <td>20.11</td>\n",
       "      <td>20.00</td>\n",
       "      <td>474</td>\n",
       "      <td>1.47</td>\n",
       "      <td>1.00</td>\n",
       "      <td>474</td>\n",
       "      <td>506.44</td>\n",
       "      <td>350.01</td>\n",
       "      <td>474</td>\n",
       "    </tr>\n",
       "    <tr>\n",
       "      <th>5</th>\n",
       "      <td>243.24</td>\n",
       "      <td>235.00</td>\n",
       "      <td>939</td>\n",
       "      <td>1.25</td>\n",
       "      <td>1.00</td>\n",
       "      <td>939</td>\n",
       "      <td>401.59</td>\n",
       "      <td>266.60</td>\n",
       "      <td>939</td>\n",
       "    </tr>\n",
       "    <tr>\n",
       "      <th>6</th>\n",
       "      <td>32.15</td>\n",
       "      <td>25.00</td>\n",
       "      <td>390</td>\n",
       "      <td>10.32</td>\n",
       "      <td>9.00</td>\n",
       "      <td>390</td>\n",
       "      <td>4149.67</td>\n",
       "      <td>3119.03</td>\n",
       "      <td>390</td>\n",
       "    </tr>\n",
       "    <tr>\n",
       "      <th>7</th>\n",
       "      <td>5.63</td>\n",
       "      <td>5.00</td>\n",
       "      <td>307</td>\n",
       "      <td>5.29</td>\n",
       "      <td>5.00</td>\n",
       "      <td>307</td>\n",
       "      <td>1882.82</td>\n",
       "      <td>1475.77</td>\n",
       "      <td>307</td>\n",
       "    </tr>\n",
       "  </tbody>\n",
       "</table>\n",
       "</div>"
      ],
      "text/plain": [
       "                Recency              Frequency              Monetary              \n",
       "                   mean median count      mean median count     mean  median count\n",
       "KMeans_Segments                                                                   \n",
       "0                 69.79  66.00   797      1.44   1.00   797   535.69  380.52   797\n",
       "1                 26.28  25.00   540      4.10   4.00   540  1545.30 1167.30   540\n",
       "2                  6.11   5.00   215     19.26  17.00   215  7835.58 6009.34   215\n",
       "3                110.73  88.50   624      4.16   4.00   624  1681.16 1243.82   624\n",
       "4                 20.11  20.00   474      1.47   1.00   474   506.44  350.01   474\n",
       "5                243.24 235.00   939      1.25   1.00   939   401.59  266.60   939\n",
       "6                 32.15  25.00   390     10.32   9.00   390  4149.67 3119.03   390\n",
       "7                  5.63   5.00   307      5.29   5.00   307  1882.82 1475.77   307"
      ]
     },
     "execution_count": 97,
     "metadata": {},
     "output_type": "execute_result"
    }
   ],
   "source": [
    "rfm.groupby(\"KMeans_Segments\").agg({\"Recency\" : [\"mean\", \"median\", \"count\"],\n",
    "                                   \"Frequency\" : [\"mean\", \"median\", \"count\"],\n",
    "                                   \"Monetary\": [\"mean\", \"median\", \"count\"]})"
   ]
  },
  {
   "cell_type": "code",
   "execution_count": 99,
   "id": "07a65395-022e-466d-b414-05a77fd6a4a3",
   "metadata": {
    "tags": []
   },
   "outputs": [
    {
     "data": {
      "image/png": "[encoded data removed]",
      "text/plain": [
       "<Figure size 2000x1000 with 1 Axes>"
      ]
     },
     "metadata": {},
     "output_type": "display_data"
    }
   ],
   "source": [
    "plt.figure(figsize=(20,10))\n",
    "sns.boxplot(x = \"KMeans_Segments\", y = \"Monetary\", data=rfm)\n",
    "plt.show();"
   ]
  },
  {
   "cell_type": "code",
   "execution_count": 100,
   "id": "db3a1464-2d90-429f-a095-c4e52b87ed34",
   "metadata": {
    "tags": []
   },
   "outputs": [],
   "source": [
    "# Hierarchical Clustering"
   ]
  },
  {
   "cell_type": "code",
   "execution_count": 101,
   "id": "f2093b07-210a-4682-aec4-c36f787df193",
   "metadata": {
    "tags": []
   },
   "outputs": [
    {
     "data": {
      "image/png": "[encoded data removed]",
      "text/plain": [
       "<Figure size 700x500 with 1 Axes>"
      ]
     },
     "metadata": {},
     "output_type": "display_data"
    }
   ],
   "source": [
    "hc_complete = linkage (scaled_df,\"complete\")\n",
    "plt.figure(figsize=(7,5))\n",
    "plt.title(\"Dendrograms\")\n",
    "dend = dendrogram(hc_complete,\n",
    "                 truncate_mode=\"lastp\",\n",
    "                 p = 10,\n",
    "                 show_contracted=True,\n",
    "                 leaf_font_size=10)\n",
    "plt.axhline(y = 1.2, color = \"r\", linestyle = \"--\")\n",
    "plt.show()"
   ]
  },
  {
   "cell_type": "code",
   "execution_count": 102,
   "id": "1d08aba8-3861-4f1d-9329-09600814df2b",
   "metadata": {
    "tags": []
   },
   "outputs": [
    {
     "data": {
      "text/html": [
       "<div>\n",
       "<style scoped>\n",
       "    .dataframe tbody tr th:only-of-type {\n",
       "        vertical-align: middle;\n",
       "    }\n",
       "\n",
       "    .dataframe tbody tr th {\n",
       "        vertical-align: top;\n",
       "    }\n",
       "\n",
       "    .dataframe thead tr th {\n",
       "        text-align: left;\n",
       "    }\n",
       "\n",
       "    .dataframe thead tr:last-of-type th {\n",
       "        text-align: right;\n",
       "    }\n",
       "</style>\n",
       "<table border=\"1\" class=\"dataframe\">\n",
       "  <thead>\n",
       "    <tr>\n",
       "      <th></th>\n",
       "      <th colspan=\"3\" halign=\"left\">Recency</th>\n",
       "      <th colspan=\"3\" halign=\"left\">Frequency</th>\n",
       "      <th colspan=\"3\" halign=\"left\">Monetary</th>\n",
       "    </tr>\n",
       "    <tr>\n",
       "      <th></th>\n",
       "      <th>mean</th>\n",
       "      <th>median</th>\n",
       "      <th>count</th>\n",
       "      <th>mean</th>\n",
       "      <th>median</th>\n",
       "      <th>count</th>\n",
       "      <th>mean</th>\n",
       "      <th>median</th>\n",
       "      <th>count</th>\n",
       "    </tr>\n",
       "    <tr>\n",
       "      <th>Hierarchi_Segments</th>\n",
       "      <th></th>\n",
       "      <th></th>\n",
       "      <th></th>\n",
       "      <th></th>\n",
       "      <th></th>\n",
       "      <th></th>\n",
       "      <th></th>\n",
       "      <th></th>\n",
       "      <th></th>\n",
       "    </tr>\n",
       "  </thead>\n",
       "  <tbody>\n",
       "    <tr>\n",
       "      <th>0</th>\n",
       "      <td>22.54</td>\n",
       "      <td>17.00</td>\n",
       "      <td>915</td>\n",
       "      <td>8.22</td>\n",
       "      <td>7.00</td>\n",
       "      <td>915</td>\n",
       "      <td>3183.45</td>\n",
       "      <td>2342.57</td>\n",
       "      <td>915</td>\n",
       "    </tr>\n",
       "    <tr>\n",
       "      <th>1</th>\n",
       "      <td>71.59</td>\n",
       "      <td>60.00</td>\n",
       "      <td>1091</td>\n",
       "      <td>3.42</td>\n",
       "      <td>3.00</td>\n",
       "      <td>1091</td>\n",
       "      <td>1354.29</td>\n",
       "      <td>940.86</td>\n",
       "      <td>1091</td>\n",
       "    </tr>\n",
       "    <tr>\n",
       "      <th>2</th>\n",
       "      <td>227.53</td>\n",
       "      <td>220.00</td>\n",
       "      <td>1131</td>\n",
       "      <td>1.43</td>\n",
       "      <td>1.00</td>\n",
       "      <td>1131</td>\n",
       "      <td>474.46</td>\n",
       "      <td>301.65</td>\n",
       "      <td>1131</td>\n",
       "    </tr>\n",
       "    <tr>\n",
       "      <th>3</th>\n",
       "      <td>13.24</td>\n",
       "      <td>13.00</td>\n",
       "      <td>462</td>\n",
       "      <td>2.05</td>\n",
       "      <td>2.00</td>\n",
       "      <td>462</td>\n",
       "      <td>654.60</td>\n",
       "      <td>498.73</td>\n",
       "      <td>462</td>\n",
       "    </tr>\n",
       "    <tr>\n",
       "      <th>4</th>\n",
       "      <td>55.18</td>\n",
       "      <td>53.50</td>\n",
       "      <td>534</td>\n",
       "      <td>1.00</td>\n",
       "      <td>1.00</td>\n",
       "      <td>534</td>\n",
       "      <td>413.07</td>\n",
       "      <td>281.32</td>\n",
       "      <td>534</td>\n",
       "    </tr>\n",
       "    <tr>\n",
       "      <th>5</th>\n",
       "      <td>5.11</td>\n",
       "      <td>5.00</td>\n",
       "      <td>153</td>\n",
       "      <td>21.38</td>\n",
       "      <td>19.00</td>\n",
       "      <td>153</td>\n",
       "      <td>8880.06</td>\n",
       "      <td>7637.56</td>\n",
       "      <td>153</td>\n",
       "    </tr>\n",
       "  </tbody>\n",
       "</table>\n",
       "</div>"
      ],
      "text/plain": [
       "                   Recency              Frequency              Monetary              \n",
       "                      mean median count      mean median count     mean  median count\n",
       "Hierarchi_Segments                                                                   \n",
       "0                    22.54  17.00   915      8.22   7.00   915  3183.45 2342.57   915\n",
       "1                    71.59  60.00  1091      3.42   3.00  1091  1354.29  940.86  1091\n",
       "2                   227.53 220.00  1131      1.43   1.00  1131   474.46  301.65  1131\n",
       "3                    13.24  13.00   462      2.05   2.00   462   654.60  498.73   462\n",
       "4                    55.18  53.50   534      1.00   1.00   534   413.07  281.32   534\n",
       "5                     5.11   5.00   153     21.38  19.00   153  8880.06 7637.56   153"
      ]
     },
     "execution_count": 102,
     "metadata": {},
     "output_type": "execute_result"
    }
   ],
   "source": [
    "hc = AgglomerativeClustering(n_clusters=6)\n",
    "segments = hc.fit_predict(scaled_df)\n",
    "rfm[\"Hierarchi_Segments\"] = segments\n",
    "rfm.groupby(\"Hierarchi_Segments\").agg({\"Recency\": [\"mean\", \"median\", \"count\"],\n",
    "                                         \"Frequency\": [\"mean\", \"median\", \"count\"],\n",
    "                                         \"Monetary\": [\"mean\", \"median\", \"count\"]})"
   ]
  },
  {
   "cell_type": "code",
   "execution_count": 104,
   "id": "589ad05c-8dd4-4a5d-87c0-8e0035ea1176",
   "metadata": {
    "tags": []
   },
   "outputs": [
    {
     "data": {
      "image/png": "[encoded data removed]",
      "text/plain": [
       "<Figure size 2000x1000 with 1 Axes>"
      ]
     },
     "metadata": {},
     "output_type": "display_data"
    }
   ],
   "source": [
    "plt.figure(figsize = (20,10))\n",
    "sns.boxplot(x= \"Hierarchi_Segments\", y=\"Monetary\", data = rfm)\n",
    "plt.show();"
   ]
  },
  {
   "cell_type": "code",
   "execution_count": null,
   "id": "75724b16-fcbf-4610-8a58-2f949b807695",
   "metadata": {},
   "outputs": [],
   "source": []
  },
  {
   "cell_type": "code",
   "execution_count": null,
   "id": "0d13cf6b-e22f-4fa0-a288-b096324b3519",
   "metadata": {},
   "outputs": [],
   "source": []
  },
  {
   "cell_type": "code",
   "execution_count": null,
   "id": "c0716c50-0a48-4004-94b9-1e2bb0e2adb9",
   "metadata": {},
   "outputs": [],
   "source": []
  },
  {
   "cell_type": "code",
   "execution_count": null,
   "id": "897597bb-c010-425d-a5f3-509d60760d2f",
   "metadata": {},
   "outputs": [],
   "source": []
  },
  {
   "cell_type": "code",
   "execution_count": null,
   "id": "b727676f-74ab-415f-8b04-0888221cb437",
   "metadata": {},
   "outputs": [],
   "source": []
  },
  {
   "cell_type": "code",
   "execution_count": null,
   "id": "229ce80d-10fa-4a63-beac-deb40198afba",
   "metadata": {},
   "outputs": [],
   "source": []
  },
  {
   "cell_type": "code",
   "execution_count": null,
   "id": "40ca1775-2c97-4e6a-864b-d2fc8467ee24",
   "metadata": {},
   "outputs": [],
   "source": []
  },
  {
   "cell_type": "code",
   "execution_count": null,
   "id": "3aa37fc7-03c8-464f-94ff-5b5d1fdcc88c",
   "metadata": {},
   "outputs": [],
   "source": []
  },
  {
   "cell_type": "code",
   "execution_count": null,
   "id": "5eb516e6-70fb-440c-a8e5-b0ee306308d5",
   "metadata": {},
   "outputs": [],
   "source": []
  },
  {
   "cell_type": "code",
   "execution_count": null,
   "id": "c2b95395-a320-4a48-a2c0-47dd8ebb4d7e",
   "metadata": {},
   "outputs": [],
   "source": []
  },
  {
   "cell_type": "code",
   "execution_count": null,
   "id": "6e7db91b-4c8c-4cbb-aaf7-ab37bf747499",
   "metadata": {},
   "outputs": [],
   "source": []
  },
  {
   "cell_type": "code",
   "execution_count": null,
   "id": "99e45314-099c-405f-8bc0-14d818e2c43f",
   "metadata": {},
   "outputs": [],
   "source": []
  },
  {
   "cell_type": "code",
   "execution_count": null,
   "id": "1d57c56a-0a50-406d-bd02-dde8dce6a968",
   "metadata": {},
   "outputs": [],
   "source": []
  }
 ],
 "metadata": {
  "kernelspec": {
   "display_name": "Python 3 (ipykernel)",
   "language": "python",
   "name": "python3"
  },
  "language_info": {
   "codemirror_mode": {
    "name": "ipython",
    "version": 3
   },
   "file_extension": ".py",
   "mimetype": "text/x-python",
   "name": "python",
   "nbconvert_exporter": "python",
   "pygments_lexer": "ipython3",
   "version": "3.9.10"
  }
 },
 "nbformat": 4,
 "nbformat_minor": 5
}
